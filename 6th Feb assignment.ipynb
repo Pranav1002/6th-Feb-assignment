{
 "cells": [
  {
   "cell_type": "code",
   "execution_count": 2,
   "id": "614f6510-0902-474c-94b3-724e518ac6c8",
   "metadata": {},
   "outputs": [],
   "source": [
    "#1) Create a function which will take a list as an argument and return the product of all the numbers after creating a flat list.\n",
    "from functools import reduce\n",
    "def product(l1):\n",
    "    l2=[]\n",
    "    flag=0\n",
    "    for ele in l1:\n",
    "        if(type(ele)==int):\n",
    "            flag=1\n",
    "            l2.append(ele)\n",
    "        elif(type(ele)==tuple):\n",
    "            flag=0\n",
    "            for i in ele:\n",
    "                l2.append(i)\n",
    "        elif(type(ele)==dict):\n",
    "            flag=0\n",
    "            for i in ele:\n",
    "                l2.append(i)\n",
    "                l2.append(ele[i])\n",
    "        elif(type(ele)==list):\n",
    "            flag=0\n",
    "            for i in ele:\n",
    "                l2.append(i)\n",
    "        elif(type(ele)==set):\n",
    "            flag=0\n",
    "            for i in ele:\n",
    "                l2.append(i)\n",
    "        elif(type(ele)==str):\n",
    "            flag=0\n",
    "        elif(type(ele)==bool):\n",
    "            flag=0\n",
    "            \n",
    "    if(flag==0):\n",
    "        return(product(l2))\n",
    "    else:\n",
    "        return reduce(lambda x,y:x*y,l2)\n",
    "        \n",
    "        "
   ]
  },
  {
   "cell_type": "code",
   "execution_count": 3,
   "id": "4e21bf13-0727-4c3c-a280-7c5fd6d7539e",
   "metadata": {},
   "outputs": [
    {
     "data": {
      "text/plain": [
       "4134711838987085478833841242112000"
      ]
     },
     "execution_count": 3,
     "metadata": {},
     "output_type": "execute_result"
    }
   ],
   "source": [
    "l1= [1,2,3,4, [44,55,66, True], False, (34,56,78,89,34), {1,2,3,3,2,1}, {1:34, \"key2\": [55, 67, 78, 89], 4: (45,\n",
    "22, 61, 34)}, [56, 'data science'], 'Machine Learning']\n",
    "product(l1)"
   ]
  },
  {
   "cell_type": "code",
   "execution_count": 25,
   "id": "c7a47210-5192-492f-90d7-c22cf5621cd7",
   "metadata": {},
   "outputs": [],
   "source": [
    "#2) Write a python program for encrypting a message sent to you by your friend. \n",
    "#   The logic of encryptionshould be such that, for a the output should be z. \n",
    "#   For b, the output should be y. For c, the output shouldbe x respectively. \n",
    "#   Also, the whitespace should be replaced with a dollar sign. Keep the punctuationmarks unchanged.\n",
    "\n",
    "def encrypt(msg1):\n",
    "    ans=''\n",
    "    code={'a':'z','b':'y','c':'x','d':'w','e':'v','f':'u','g':'t','h':'s','i':'r','j':'q','k':'p','l':'o','m':'n'}\n",
    "    msg=msg1.lower()\n",
    "    for i in msg:\n",
    "        for j in code:\n",
    "            if i==j:\n",
    "                ans+=code[j]\n",
    "        for j in code:\n",
    "            if i==code[j]:\n",
    "                ans+=j\n",
    "        if(i==' '):\n",
    "            ans+='$'\n",
    "        \n",
    "    return ans    \n",
    "        "
   ]
  },
  {
   "cell_type": "code",
   "execution_count": 27,
   "id": "e298ce7e-a1da-4aec-9f4c-123dc870e3a3",
   "metadata": {},
   "outputs": [
    {
     "data": {
      "text/plain": [
       "'r$dzmg$gl$yvxlnv$z$wzgz$hxrvmgrhg'"
      ]
     },
     "execution_count": 27,
     "metadata": {},
     "output_type": "execute_result"
    }
   ],
   "source": [
    "encrypt('I want to become a Data Scientist')"
   ]
  },
  {
   "cell_type": "code",
   "execution_count": null,
   "id": "5bc076bd-4d2d-4cc4-a0c0-106c0ad5b4bd",
   "metadata": {},
   "outputs": [],
   "source": []
  }
 ],
 "metadata": {
  "kernelspec": {
   "display_name": "Python 3 (ipykernel)",
   "language": "python",
   "name": "python3"
  },
  "language_info": {
   "codemirror_mode": {
    "name": "ipython",
    "version": 3
   },
   "file_extension": ".py",
   "mimetype": "text/x-python",
   "name": "python",
   "nbconvert_exporter": "python",
   "pygments_lexer": "ipython3",
   "version": "3.10.8"
  }
 },
 "nbformat": 4,
 "nbformat_minor": 5
}
